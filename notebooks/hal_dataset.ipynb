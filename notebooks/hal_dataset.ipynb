{
 "cells": [
  {
   "attachments": {},
   "cell_type": "markdown",
   "metadata": {},
   "source": [
    "# Constitution des jeux de données pour le Challenge de la Data party \n",
    "# *Les 30 ans de la MTD*\n",
    "\n",
    "# Hal : les métadonnées des articles scientifiques\n"
   ]
  },
  {
   "cell_type": "code",
   "execution_count": 1,
   "metadata": {},
   "outputs": [],
   "source": [
    "# Paramètres\n",
    "\n",
    "collections_hal = [\"TETIS\", \"ESPACE-DEV\"]"
   ]
  },
  {
   "attachments": {},
   "cell_type": "markdown",
   "metadata": {},
   "source": [
    "# Hal : métadonnées récupérées\n",
    "\n",
    "Plus d'information sur la documentation de l'API : https://api.archives-ouvertes.fr/docs/search/?schema=field-types#field-types\n",
    "\n",
    "| Champ                | Description                                           |\n",
    "| -------------------- | ----------------------------------------------------- |\n",
    "| docid                | Identifiant du document dans la base de données HAL.   |\n",
    "| halId_s              | Identifiant HAL unique associé au document.            |\n",
    "| title_s              | Titre du document.                                     |\n",
    "| authFullName_s       | Noms complets des auteurs.                             |\n",
    "| authOrganismId_i     | ID des organismes.                                     |\n",
    "| authOrganism_s       | Nom des affiliations.                                  |\n",
    "| structCountry_s      | Code à 2 lettres des pays des auteurs                  |\n",
    "| structAddress_s      | Adresses postal des auteurs                            |\n",
    "| domainAllCode_s      | Thématique                                             |\n",
    "| submittedDate_s      | Date de soumission du document.                        |\n",
    "| abstract_s           | Résumé du document.                                    |\n",
    "| journalDate_s        | Date de publication dans le journal.                   |\n",
    "| publicationDate_s    | Date de publication du document.                       |\n",
    "| producedDate_s       | Date de production du document.                        |\n",
    "| docType_s            | Type de document (ART pour article, COUV pour couverture, etc.). |\n",
    "| doiId_s              | Identifiant DOI associé au document.                   |\n",
    "| journalPublisher_s   | Éditeur du journal dans lequel le document a été publié. |\n",
    "| journalTitle_s       | Titre du journal dans lequel le document a été publié.  |\n",
    "| journalIssn_s        | ISSN du journal dans lequel le document a été publié.   |\n",
    "| researchData_s       | Identifiants (DOI) des données de recherche associées.  |\n",
    "| docSubType_s         | Sous doc type: data paper, preprint, ...               |"
   ]
  },
  {
   "cell_type": "code",
   "execution_count": 2,
   "metadata": {},
   "outputs": [],
   "source": [
    "my_lab = \"TETIS\"\n",
    "#my_lab = \"ESPACE-DEV\""
   ]
  },
  {
   "cell_type": "code",
   "execution_count": 3,
   "metadata": {},
   "outputs": [],
   "source": [
    "import requests\n",
    "import pandas as pd\n",
    "import seaborn as sns\n",
    "sns.set(style=\"whitegrid\")\n",
    "sns.set_palette(\"pastel\")\n",
    "import matplotlib.pyplot as plt\n",
    "\n",
    "\n",
    "hal_collection_url = f\"https://api.archives-ouvertes.fr/search/{my_lab}\"\n",
    "# free_text_search = \"geonlplify\"\n",
    "free_text_search = \"*\"\n",
    "hal_api_params = {\n",
    "    'q': f\"{free_text_search}\", #free text search\n",
    "    \"wt\":\"json\", # format de sortie\n",
    "    \"fl\": \"docid,halId_s,title_s,authFullName_s,authOrganismId_i,authOrganism_s,structCountry_s,structAddress_s,domainAllCode_s,submittedDate_s,abstract_s,journalDate_s,publicationDate_s, producedDate_s, docType_s, doiId_s, journalPublisher_s, journalTitle_s, journalIssn_s, researchData_s, docSubType_s\", # champs retournés\n",
    "    \"sort\": \"submittedDate_s desc\",\n",
    "    'rows': 5000, # nombre de documents récupérés sans pagination\n",
    "\n",
    "}\n",
    "reponse = requests.get(hal_collection_url, params=hal_api_params)\n",
    "\n",
    "df = pd.DataFrame(reponse.json()[\"response\"][\"docs\"])\n",
    "df[\"submittedDate_s\"] = pd.to_datetime(df[\"submittedDate_s\"])\n",
    "df[\"journalDate_s\"] = pd.to_datetime(df[\"journalDate_s\"])\n",
    "# df[\"publicationDate_s\"] = pd.to_datetime(df[\"publicationDate_s\"], format='mixed')\n",
    "df[\"producedDate_s\"] = pd.to_datetime(df[\"producedDate_s\"])"
   ]
  },
  {
   "cell_type": "code",
   "execution_count": 4,
   "metadata": {},
   "outputs": [
    {
     "data": {
      "text/plain": [
       "docid                                                           4687433\n",
       "domainAllCode_s                                                   [sdv]\n",
       "title_s               [Explainable epidemiological thematic features...\n",
       "abstract_s            [Event based disease surveillance (EBS) system...\n",
       "journalTitle_s                         Expert Systems with Applications\n",
       "journalPublisher_s                                             Elsevier\n",
       "journalIssn_s                                                 0957-4174\n",
       "journalDate_s                                       2020-10-23 00:34:06\n",
       "authFullName_s        [Edmond Menya, Roberto Interdonato, Dickson Ow...\n",
       "authOrganismId_i                                                    NaN\n",
       "authOrganism_s                                                      NaN\n",
       "structAddress_s       [Maison de la télédétection - 500 rue Jean-Fra...\n",
       "structCountry_s       [fr, fr, fr, fr, fr, fr, fr, fr, fr, fr, fr, f...\n",
       "halId_s                                                    hal-04687433\n",
       "docType_s                                                           ART\n",
       "doiId_s                                      10.1016/j.eswa.2024.123894\n",
       "submittedDate_s                                     2024-09-04 12:39:57\n",
       "producedDate_s                                      2024-09-01 00:00:00\n",
       "publicationDate_s                                               2024-09\n",
       "researchData_s                                                      NaN\n",
       "docSubType_s                                                        NaN\n",
       "Name: 10, dtype: object"
      ]
     },
     "execution_count": 4,
     "metadata": {},
     "output_type": "execute_result"
    }
   ],
   "source": [
    "df.iloc[10]"
   ]
  },
  {
   "cell_type": "code",
   "execution_count": 5,
   "metadata": {},
   "outputs": [
    {
     "data": {
      "text/plain": [
       "Text(0, 0.5, 'Nombre de contributions')"
      ]
     },
     "execution_count": 5,
     "metadata": {},
     "output_type": "execute_result"
    },
    {
     "data": {
      "image/png": "[encoded data removed]",
      "text/plain": [
       "<Figure size 1200x600 with 1 Axes>"
      ]
     },
     "metadata": {},
     "output_type": "display_data"
    }
   ],
   "source": [
    "plt.figure(figsize=(12, 6))\n",
    "selected_publication_types = [\"ART\", \"COMM\", \"PROCEEDINGS\"]\n",
    "df_filtered = df[df['docType_s'].isin(selected_publication_types)]\n",
    "#df_filtered = df_filtered[df_filtered['journalDate_s'] >= '2018-01-01']\n",
    "sns.histplot(data=df_filtered, x=\"producedDate_s\", stat=\"count\", binwidth=365.25, hue=\"docType_s\", multiple=\"stack\")\n",
    "plt.title(f'Histogramme des productions {my_lab} par date de publication par les revues')\n",
    "plt.xlabel('Date de publication')\n",
    "plt.ylabel('Nombre de contributions')\n",
    "#plt.xticks(rotation=45)"
   ]
  },
  {
   "cell_type": "code",
   "execution_count": 6,
   "metadata": {},
   "outputs": [
    {
     "name": "stderr",
     "output_type": "stream",
     "text": [
      "/home/rdecoupe/PycharmProjects/dataparty-30ans/.venv/lib/python3.7/site-packages/ipykernel_launcher.py:1: FutureWarning: Treating datetime data as categorical rather than numeric in `.describe` is deprecated and will be removed in a future version of pandas. Specify `datetime_is_numeric=True` to silence this warning and adopt the future behavior now.\n",
      "  \"\"\"Entry point for launching an IPython kernel.\n"
     ]
    },
    {
     "data": {
      "text/plain": [
       "count                    2084\n",
       "unique                    814\n",
       "top       2006-01-01 00:00:00\n",
       "freq                       58\n",
       "first     1995-01-01 00:00:00\n",
       "last      2024-11-25 00:00:00\n",
       "Name: producedDate_s, dtype: object"
      ]
     },
     "execution_count": 6,
     "metadata": {},
     "output_type": "execute_result"
    }
   ],
   "source": [
    "df_filtered[\"producedDate_s\"].describe()"
   ]
  },
  {
   "attachments": {},
   "cell_type": "markdown",
   "metadata": {},
   "source": [
    "Nous n'avons que les abréviations des noms des pays ou regions comme : `fr, nc, re, ...`, il nous faut les convertir en nom de pays.\n",
    "\n",
    "Comme le champs de métadonnnées `structCountry_s` contient une liste d'abréviations, nous allons créer de nouvelles colonnes portant le nom `country_{n}` avec `{n}`, le numéro du pays"
   ]
  },
  {
   "cell_type": "code",
   "execution_count": 7,
   "metadata": {},
   "outputs": [
    {
     "data": {
      "text/plain": [
       "0        [fr, fr, fr, fr, fr, gb, gb, gb, gb, gh, gb, gb]\n",
       "1       [fr, fr, fr, fr, fr, fr, fr, fr, fr, fr, fr, f...\n",
       "2       [fr, fr, fr, fr, fr, fr, fr, fr, fr, fr, fr, f...\n",
       "3       [fr, fr, fr, fr, fr, fr, fr, fr, fr, fr, fr, f...\n",
       "4       [tn, fr, fr, fr, fr, fr, fr, fr, fr, fr, fr, f...\n",
       "                              ...                        \n",
       "2835                 [fr, fr, fr, fr, fr, fr, fr, fr, fr]\n",
       "2836                 [fr, fr, fr, fr, fr, fr, fr, fr, fr]\n",
       "2837                 [fr, fr, fr, fr, fr, fr, fr, fr, fr]\n",
       "2838    [fr, fr, fr, fr, fr, fr, fr, fr, fr, fr, fr, f...\n",
       "2839                 [fr, fr, fr, fr, fr, fr, fr, fr, fr]\n",
       "Name: structCountry_s, Length: 2840, dtype: object"
      ]
     },
     "execution_count": 7,
     "metadata": {},
     "output_type": "execute_result"
    }
   ],
   "source": [
    "df[\"structCountry_s\"]"
   ]
  },
  {
   "cell_type": "code",
   "execution_count": 8,
   "metadata": {},
   "outputs": [],
   "source": [
    "import pycountry\n",
    "\n",
    "country_mapping = {country.alpha_2.lower(): country.name for country in pycountry.countries}\n",
    "df_country_mapping = pd.DataFrame(list(country_mapping.items()), columns=['country_code', 'country_name'])\n"
   ]
  },
  {
   "cell_type": "code",
   "execution_count": 9,
   "metadata": {},
   "outputs": [],
   "source": [
    "def map_countries(countries):\n",
    "    # Map each abbreviation to its full name using a list comprehension\n",
    "    try:\n",
    "        res = [country_mapping.get(country, country) for country in countries]\n",
    "    except:\n",
    "        res = [\"\"]\n",
    "    return res\n",
    "\n",
    "df['country_full_names'] = df['structCountry_s'].apply(map_countries)\n",
    "\n",
    "countries_expanded = pd.DataFrame(df['country_full_names'].tolist(), index=df.index)\n",
    "countries_expanded.columns = [f'country_{i+1}' for i in range(countries_expanded.shape[1])]\n",
    "df = pd.concat([df, countries_expanded], axis=1)\n",
    "df.drop('country_full_names', axis=1, inplace=True)"
   ]
  },
  {
   "cell_type": "code",
   "execution_count": 10,
   "metadata": {},
   "outputs": [
    {
     "data": {
      "text/plain": [
       "0        Ghana\n",
       "1       France\n",
       "2       France\n",
       "3       France\n",
       "4       France\n",
       "         ...  \n",
       "2835      None\n",
       "2836      None\n",
       "2837      None\n",
       "2838    France\n",
       "2839      None\n",
       "Name: country_10, Length: 2840, dtype: object"
      ]
     },
     "execution_count": 10,
     "metadata": {},
     "output_type": "execute_result"
    }
   ],
   "source": [
    "df[\"country_10\"]"
   ]
  },
  {
   "cell_type": "code",
   "execution_count": 11,
   "metadata": {},
   "outputs": [],
   "source": [
    "df.to_csv(f\"./../data/hal_export_{my_lab}.csv\")"
   ]
  },
  {
   "cell_type": "code",
   "execution_count": null,
   "metadata": {},
   "outputs": [],
   "source": []
  }
 ],
 "metadata": {
  "kernelspec": {
   "display_name": ".venv",
   "language": "python",
   "name": "python3"
  },
  "language_info": {
   "codemirror_mode": {
    "name": "ipython",
    "version": 3
   },
   "file_extension": ".py",
   "mimetype": "text/x-python",
   "name": "python",
   "nbconvert_exporter": "python",
   "pygments_lexer": "ipython3",
   "version": "3.7.3"
  },
  "orig_nbformat": 4
 },
 "nbformat": 4,
 "nbformat_minor": 2
}
